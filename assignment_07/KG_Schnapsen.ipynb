{
 "cells": [
  {
   "cell_type": "markdown",
   "metadata": {},
   "source": [
    "# Intelligent Systems 2023: Practical Assignment 07\n",
    "\n",
    "## Schnapsen and Knowledge Graphs\n",
    "\n",
    "Your name: \n",
    "\n",
    "Your VUnetID: \n",
    "\n",
    "If you do not provide your name and VUnetID we will not accept your submission. \n",
    "\n",
    "### Learning objectives\n",
    "At the end of this exercise you should be able to work with logical agents on the Schnapsen platform\n",
    "\n",
    "1. Learn on how to use a knowledge graph \n",
    "2. Have a first idea on how to use a knowledge graph for playing Schnapsen.\n",
    "\n",
    "### Preliminaries\n",
    "\n",
    "We start building a knowledge graph based agent for playing Schnapsen. The idea is to represent the game and the game states fully in RDF and use queries and logical entailments for getting information.\n",
    "We are not implementing any game play strategy yet.\n",
    "\n",
    "First things first, let's deal with dependencies for using the kb bot, namely numpy and scipy. They should be installed fairly easily via \"pip install numpy\", \"pip install scipy\".\n",
    "Furthermore you need the packages rdflib and owlrl to work with knowledge graphs.\n",
    "rdflib is a in memory database for RDF.\n",
    "owlrl is a reasoning library for RDF-S and OWL which uses rdflib.\n",
    "\n",
    "\n",
    "### Practicalities\n",
    "\n",
    "Follow this Notebook step-by-step. \n",
    "\n",
    "Of course, you can do the exercises in any Programming Editor of your liking. But you do not have to. Feel free to simply write code in the Notebook. Please use your studentID+Assignment7.ipynb as the name of the Notebook.  \n",
    "\n",
    "Note: unlike the courses dedicated to programming we will not evaluate the style of the programs. But we will, however, test your programs on other data that we provide, and your program should give the correct output to the test-data as well.\n",
    "\n",
    "As was mentioned, the assignment is graded as pass/fail. To pass you need to have either a full working code or an explanation of what you tried and what didn't work for the tasks that you were unable to complete (you can use multi-line comments or a text cell).\n",
    "\n",
    "## Initialising\n",
    "\n",
    "First, we have to install the schnapsen python package. \n",
    "Run the below code cell.\n",
    "After running the cell, you have the schnapsen Github repository cloned in your current directory.\n",
    "You can find the new directory created with the name `schnapsen`.\n",
    "The detailed installation instructions can be found in the [README.md](https://github.com/intelligent-systems-course/schnapsen) of the repo."
   ]
  },
  {
   "cell_type": "code",
   "execution_count": null,
   "metadata": {},
   "outputs": [],
   "source": [
    "# If you are on a UNIX system (Linux or Mac OS)\n",
    "!pip uninstall schnapsen -y && rm -rf schnapsen && git clone https://github.com/intelligent-systems-course/schnapsen && cd schnapsen && pip install -e . && cd .."
   ]
  },
  {
   "cell_type": "code",
   "execution_count": null,
   "metadata": {},
   "outputs": [],
   "source": [
    "# If you are on Windows\n",
    "!pip uninstall schnapsen -y rd /s /q schnapsen && git clone https://github.com/intelligent-systems-course/schnapsen && cd schnapsen && pip install -e . && cd .."
   ]
  },
  {
   "cell_type": "markdown",
   "metadata": {},
   "source": [
    "# Playing Schnapsen with a Knowledge Graph\n",
    "\n",
    "As demonstrated during the lecture, we can model Schnapsen also as a basic knowledge graph using RDF and RDF-S.\n",
    "In the following tasks, we will built a small knowledge graph which models a Schnapsen game using the two Python libraries rdflib and owl-rl."
   ]
  },
  {
   "cell_type": "markdown",
   "metadata": {},
   "source": [
    "In this first code snippet, we will create an ontology modelling Schnapsen similar to the one we have introduced in the lecture.\n",
    "We will use the triple store library rdflib to model our knowledge graph."
   ]
  },
  {
   "cell_type": "code",
   "execution_count": null,
   "metadata": {},
   "outputs": [],
   "source": [
    "# Install the dependencies\n",
    "!pip install rdflib owlrl"
   ]
  },
  {
   "cell_type": "code",
   "execution_count": null,
   "metadata": {},
   "outputs": [],
   "source": [
    "from rdflib import Graph, Literal, Namespace\n",
    "from rdflib.namespace import RDF, RDFS\n",
    "\n",
    "g = Graph()\n",
    "s = Namespace(\"http://schnapsen.org/\")\n",
    "\n",
    "\n",
    "\n",
    "#suits\n",
    "g.add((s.Hearts, RDFS.subClassOf, s.Card))\n",
    "g.add((s.Spades, RDFS.subClassOf, s.Card))\n",
    "g.add((s.Diamonds, RDFS.subClassOf, s.Card))\n",
    "g.add((s.Clubs, RDFS.subClassOf, s.Card))\n",
    "\n",
    "#ranks\n",
    "g.add((s.Jack, RDFS.subClassOf, s.Card))\n",
    "g.add((s.Queen, RDFS.subClassOf, s.Card))\n",
    "g.add((s.King, RDFS.subClassOf, s.Card))\n",
    "g.add((s.Ten, RDFS.subClassOf, s.Card))\n",
    "g.add((s.Ace, RDFS.subClassOf, s.Card))\n",
    "      \n",
    "\n",
    "#information about cards\n",
    "g.add((s.JackHearts, RDF.type, s.Hearts))\n",
    "g.add((s.JackHearts, RDF.type, s.Jack))\n",
    "g.add((s.JackHearts, s.value, Literal('2')))\n",
    "\n",
    "g.add((s.JackSpades, RDF.type, s.Spades))\n",
    "g.add((s.JackSpades, RDF.type, s.Jack))\n",
    "g.add((s.JackSpades, s.value, Literal('2')))\n",
    "\n",
    "g.add((s.JackDiamonds, RDF.type, s.Diamonds))\n",
    "g.add((s.JackDiamonds, RDF.type, s.Jack))\n",
    "g.add((s.JackDiamonds, s.value, Literal('2')))\n",
    "\n",
    "g.add((s.JackClubs, RDF.type, s.Clubs))\n",
    "g.add((s.JackClubs, RDF.type, s.Jack))\n",
    "g.add((s.JackClubs, s.value, Literal('2')))\n",
    "\n",
    "g.add((s.QueenHearts, RDF.type, s.Hearts))\n",
    "g.add((s.QueenHearts, RDF.type, s.Queen))\n",
    "g.add((s.QueenHearts, s.value, Literal('3')))\n",
    "\n",
    "g.add((s.QueenSpades, RDF.type, s.Spades))\n",
    "g.add((s.QueenSpades, RDF.type, s.Queen))\n",
    "g.add((s.QueenSpades, s.value, Literal('3')))\n",
    "\n",
    "g.add((s.QueenDiamonds, RDF.type, s.Diamonds))\n",
    "g.add((s.QueenDiamonds, RDF.type, s.Queen))\n",
    "g.add((s.QueenDiamonds, s.value, Literal('3')))\n",
    "\n",
    "g.add((s.QueenClubs, RDF.type, s.Clubs))\n",
    "g.add((s.QueenClubs, RDF.type, s.Queen))\n",
    "g.add((s.QueenClubs, s.value, Literal('3')))\n",
    "\n",
    "g.add((s.KingHearts, RDF.type, s.Hearts))\n",
    "g.add((s.KingHearts, RDF.type, s.King))\n",
    "g.add((s.KingHearts, s.value, Literal('4')))\n",
    "\n",
    "g.add((s.KingSpades, RDF.type, s.Spades))\n",
    "g.add((s.KingSpades, RDF.type, s.King))\n",
    "g.add((s.KingSpades, s.value, Literal('4')))\n",
    "\n",
    "g.add((s.KingDiamonds, RDF.type, s.Diamonds))\n",
    "g.add((s.KingDiamonds, RDF.type, s.King))\n",
    "g.add((s.KingDiamonds, s.value, Literal('4')))\n",
    "\n",
    "g.add((s.KingClubs, RDF.type, s.Clubs))\n",
    "g.add((s.KingClubs, RDF.type, s.King))\n",
    "g.add((s.KingClubs, s.value, Literal('4')))\n",
    "\n",
    "\n",
    "g.add((s.AceHearts, RDF.type, s.Hearts))\n",
    "g.add((s.AceHearts, RDF.type, s.Ace))\n",
    "g.add((s.AceHearts, s.value, Literal('11')))\n",
    "\n",
    "g.add((s.AceSpades, RDF.type, s.Spades))\n",
    "g.add((s.AceSpades, RDF.type, s.Ace))\n",
    "g.add((s.AceSpades, s.value, Literal('11')))\n",
    "\n",
    "g.add((s.AceDiamonds, RDF.type, s.Diamonds))\n",
    "g.add((s.AceDiamonds, RDF.type, s.Ace))\n",
    "g.add((s.AceDiamonds, s.value, Literal('11')))\n",
    "\n",
    "g.add((s.AceClubs, RDF.type, s.Clubs))\n",
    "g.add((s.AceClubs, RDF.type, s.Ace))\n",
    "g.add((s.AceClubs, s.value, Literal('11')))\n",
    "\n",
    "\n",
    "\n",
    "\n",
    "#additional information about the game \n",
    "\n",
    "g.add((s.Jack, RDFS.subClassOf, s.CheapCard))\n",
    "g.add((s.Ace, RDFS.subClassOf, s.ExpensiveCard))\n",
    "      \n"
   ]
  },
  {
   "cell_type": "markdown",
   "metadata": {},
   "source": [
    "### Task 1: \n",
    "\n",
    "The ontology that we have shown above is similar to the one that we have started modelling in the lecture. However, some cards of our Schnapsen game are not modelled yet.\n",
    "Please add knowledge about the missing cards to the knowledge graph analogously to above. \n",
    "\n"
   ]
  },
  {
   "cell_type": "code",
   "execution_count": null,
   "metadata": {},
   "outputs": [],
   "source": [
    "\n",
    "#put your additional information about the cards here\n"
   ]
  },
  {
   "cell_type": "code",
   "execution_count": null,
   "metadata": {},
   "outputs": [],
   "source": [
    "MyCode1 = \"\"\"\n",
    "#also put your code in the MyCode1 variable\n",
    "\"\"\""
   ]
  },
  {
   "cell_type": "markdown",
   "metadata": {},
   "source": [
    "Additionally, we need information about the current game and the game state.\n",
    "This involves the following additional things that we model using classes in a knowledge graph. \n",
    "- current trump card\n",
    "- the tallon\n",
    "- both players hands\n",
    "- both players tricks\n",
    "\n",
    "(*This list is not complete.*)\n",
    "\n"
   ]
  },
  {
   "cell_type": "code",
   "execution_count": null,
   "metadata": {},
   "outputs": [],
   "source": [
    "from rdflib import Seq, Bag\n",
    "\n",
    "#additional information about the gameplay\n",
    "\n",
    "#trump\n",
    "g.add((s.Spades, RDFS.subClassOf, s.TrumpSuit))\n",
    "g.add((s.JackSpades, RDF.type, s.TrumpCard))\n",
    "\n",
    "#tallon\n",
    "tallon = Seq(g, s.tallon)\n",
    "tallon.append(s.AceClubs)\n",
    "tallon.append(s.TenHearts)\n",
    "tallon.append(s.JackDiamonds)\n",
    "tallon.append(s.AceDiamonds)\n",
    "tallon.append(s.JackClubs)\n",
    "tallon.append(s.QueenHearts)\n",
    "tallon.append(s.KingHearts)\n",
    "tallon.append(s.TenSpades)\n",
    "tallon.append(s.TenClubs)\n",
    "\n",
    "#Player 1\n",
    "g.add((s.JackHearts, RDF.type, s.player1))\n",
    "g.add((s.AceHearts, RDF.type, s.player1))\n",
    "g.add((s.QueenSpades, RDF.type, s.player1))\n",
    "\n",
    "\n",
    "#Player 2\n",
    "g.add((s.AceSpades, RDF.type, s.player2))\n",
    "g.add((s.KingSpades, RDF.type, s.player2))\n",
    "g.add((s.QueenDiamonds, RDF.type, s.player2))\n",
    "\n",
    "\n",
    "#Cards won by Player 1\n",
    "g.add((s.TenDiamonds, RDF.type, s.wonPlayer1))\n",
    "g.add((s.KingDiamonds, RDF.type, s.wonPlayer1))\n",
    "\n",
    "#Cards won by Player 2\n",
    "g.add((s.KingClubs, RDF.type, s.wonPlayer2))\n",
    "g.add((s.QueenClubs, RDF.type, s.wonPlayer2))\n",
    "\n",
    "\n",
    "\n",
    "\n"
   ]
  },
  {
   "cell_type": "markdown",
   "metadata": {},
   "source": [
    "We are now able to perform a simple query on the knowledge graph to get information from the knowledge graph. In this example, we retrieve the cards from the hand of player 1 by using a SPARQL query."
   ]
  },
  {
   "cell_type": "code",
   "execution_count": null,
   "metadata": {},
   "outputs": [],
   "source": [
    "result = g.query(\"\"\"\n",
    "PREFIX s: <http://schnapsen.org/>\n",
    "PREFIX rdf: <http://www.w3.org/1999/02/22-rdf-syntax-ns#>\n",
    "SELECT ?card \n",
    "WHERE {\n",
    "     ?card rdf:type s:player1\n",
    "} \n",
    "\"\"\")\n",
    "\n",
    "for row in result:\n",
    "    print('Result: {}'.format(row))"
   ]
  },
  {
   "cell_type": "markdown",
   "metadata": {},
   "source": [
    "### Task 2 \n",
    "As a next task, we want get all cards of player 2 using a SPARQL query similar to before. Adapt the previous query.\n",
    "\n",
    "*Hint: You can copy the code from above and only need to change a single line.*"
   ]
  },
  {
   "cell_type": "code",
   "execution_count": null,
   "metadata": {},
   "outputs": [],
   "source": [
    "#Put your answer here"
   ]
  },
  {
   "cell_type": "markdown",
   "metadata": {},
   "source": [
    "### Task 3\n",
    "\n",
    "You are supposed to take the position of Player 1. Try to complete the following query such that all cards which are known to Player 1 are returned.\n",
    "\n",
    "*Hint: You need to change 2 lines in the query.*"
   ]
  },
  {
   "cell_type": "code",
   "execution_count": null,
   "metadata": {},
   "outputs": [],
   "source": [
    "result = g.query(\"\"\"\n",
    "PREFIX s: <http://schnapsen.org/>\n",
    "PREFIX rdf: <http://www.w3.org/1999/02/22-rdf-syntax-ns#>\n",
    "\n",
    "SELECT ?card \n",
    "WHERE {\n",
    "    {?card rdf:type s:player1}\n",
    "    UNION\n",
    "    {?card rdf:type s:TrumpCard}\n",
    "    UNION\n",
    "    {}\n",
    "    UNION\n",
    "    {} \n",
    "} \n",
    "\"\"\")\n",
    "\n",
    "for row in result:\n",
    "    print('Result: {}'.format(row))"
   ]
  },
  {
   "cell_type": "markdown",
   "metadata": {},
   "source": [
    "## Entailment\n",
    "\n",
    "So far, we have only worked with simple SPARQL queries to get information about the current game state from our knowledge graph.\n",
    "We will extend this idea now to work with RDF-S entailments.\n",
    "\n",
    "Run the two following cells.\n",
    "\n",
    "*Hint: It is important to run them in the right order: first the cell at the top than the other one.*"
   ]
  },
  {
   "cell_type": "code",
   "execution_count": null,
   "metadata": {},
   "outputs": [],
   "source": [
    "result = g.query(\"\"\"\n",
    "PREFIX s: <http://schnapsen.org/>\n",
    "SELECT ?card\n",
    "WHERE{\n",
    "    ?card rdf:type s:Card .\n",
    "} \n",
    "\"\"\")\n",
    "\n",
    "for row in result:\n",
    "    print('Result: {}'.format(row))"
   ]
  },
  {
   "cell_type": "code",
   "execution_count": null,
   "metadata": {},
   "outputs": [],
   "source": [
    "import owlrl\n",
    "\n",
    "rdfs = owlrl.RDFSClosure.RDFS_Semantics(g, False, False, False)\n",
    "rdfs.closure()\n",
    "\n",
    "result = g.query(\"\"\"\n",
    "PREFIX s: <http://schnapsen.org/>\n",
    "SELECT ?card\n",
    "WHERE{\n",
    "    ?card rdf:type s:Card .\n",
    "} \n",
    "\"\"\")\n",
    "\n",
    "for row in result:\n",
    "    print('Result: {}'.format(row))\n",
    "    \n"
   ]
  },
  {
   "cell_type": "markdown",
   "metadata": {},
   "source": [
    "### Task 4:\n",
    "\n",
    "The last two code cells have shown you two identical queries. But one of them uses RDF-S entailments on the classes, the other one is not.\n",
    "\n",
    "Please explain in your own words, what RDF-S entailment is and why the result set is different between both queries.\n"
   ]
  },
  {
   "cell_type": "code",
   "execution_count": null,
   "metadata": {},
   "outputs": [],
   "source": [
    "#Put your explanation here\n",
    "Report1=\"\"\"\n",
    "\"\"\""
   ]
  },
  {
   "cell_type": "markdown",
   "metadata": {},
   "source": [
    "## Final Task: Collect all the results\n",
    "\n",
    "Uncomment and run this cell (and all the cells above) to generate the text file that you have to hand in together with the notebook on canvas!\n",
    "\n",
    "### Please hand in only the text file which is generated by this method!"
   ]
  },
  {
   "cell_type": "code",
   "execution_count": null,
   "metadata": {},
   "outputs": [],
   "source": [
    "from utils import *\n",
    "exportToText(\"assignment7.txt\", MyCode1, Report1)"
   ]
  }
 ],
 "metadata": {
  "kernelspec": {
   "display_name": "Python 3",
   "language": "python",
   "name": "python3"
  },
  "language_info": {
   "codemirror_mode": {
    "name": "ipython",
    "version": 3
   },
   "file_extension": ".py",
   "mimetype": "text/x-python",
   "name": "python",
   "nbconvert_exporter": "python",
   "pygments_lexer": "ipython3",
   "version": "3.10.12"
  }
 },
 "nbformat": 4,
 "nbformat_minor": 4
}
