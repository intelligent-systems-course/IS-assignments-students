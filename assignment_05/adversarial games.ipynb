{
 "cells": [
  {
   "cell_type": "markdown",
   "metadata": {},
   "source": [
    "# Intelligent Systems 2023, Practical Assignment 05\n",
    "\n",
    "## Adversarial Games\n",
    "\n",
    "\n",
    "Your name: \n",
    "\n",
    "Your VUnetID: \n",
    "\n",
    "If you do not provide your name and VUnetID we will not accept your submission. \n",
    "\n",
    "### Learning objectives\n",
    "At the end of this exercise you should be able to use the Schnapsen platform, run basic games between agents, and run tournaments in order to evaluate rational agents (also called bots). You should also be able to identify the working patterns of the MiniMiax algorithm in this platform and the improvements with Alpha/Beta pruning. \n",
    "\n",
    "1. Follow the individual steps and explain the MiniMax algorithm\n",
    "2. Make small modifications of the code to see the effect on the search algorithms\n",
    "3. Make small adaptations to the algorithm to study the computational properties\n",
    "\n",
    "### Practicalities\n",
    "\n",
    "Follow this Notebook step-by-step. \n",
    "\n",
    "Of course, you can do the exercises in any Programming Editor of your liking. But you do not have to. Feel free to simply write code in the Notebook. Please use your studentID+Assignment5.ipynb as the name of the Notebook.  \n",
    "\n",
    "Note: unlike the courses dedicated to programming we will not evaluate the style of the programs. But we will, however, test your programs on other data that we provide, and your program should give the correct output to the test-data as well.\n",
    "\n",
    "As was mentioned, the assignment is graded as pass/fail. To pass you need to have either a full working code or an explanation of what you tried and what didn't work for the tasks that you were unable to complete (you can use multi-line comments or a text cell).\n",
    "\n",
    "## Initialising \n",
    "\n",
    "First, let us make sure the necessary packages are installed, and imported. Run the cell relevant for your operating system:"
   ]
  },
  {
   "cell_type": "code",
   "execution_count": null,
   "metadata": {},
   "outputs": [],
   "source": [
    "# If you are on a UNIX system (Linux or Mac OS)\n",
    "!pip uninstall schnapsen -y && rm -rf schnapsen && git clone https://github.com/intelligent-systems-course/schnapsen && cd schnapsen && pip install -e . && cd .."
   ]
  },
  {
   "cell_type": "code",
   "execution_count": null,
   "metadata": {},
   "outputs": [],
   "source": [
    "# If you are on Windows\n",
    "!pip uninstall schnapsen -y && rd /s /q schnapsen && git clone https://github.com/intelligent-systems-course/schnapsen && cd schnapsen && pip install -e . && cd .."
   ]
  },
  {
   "cell_type": "markdown",
   "metadata": {},
   "source": [
    "When you install a python package, e.g., `schnapsen`, directly from a Jupyter Notebook, with a command, e.g., `!rm -rf schnapsen && git clone https://github.com/intelligent-systems-course/schnapsen && cd schnapsen && pip install -e . && cd ..`, your Python kernel might not know that the package is installed yet. This can throw a `ModuleNotFoundError`, `ModuleNotFoundError: No module named 'schnapsen.game'`.\n",
    "\n",
    "If you encounter this, simply restart the kernel and proceed. I don't know what kind of IDE you use, but VS Code is pretty handy and handle this pretty nicely."
   ]
  },
  {
   "cell_type": "code",
   "execution_count": 4,
   "metadata": {},
   "outputs": [],
   "source": [
    "import random\n",
    "from schnapsen.game import (SchnapsenGamePlayEngine, GameState, BotState, SchnapsenDeckGenerator, \n",
    "                            SchnapsenHandGenerator, Bot, Score)\n",
    "from schnapsen.game import Talon, Suit\n",
    "from schnapsen.bots import RandBot, RdeepBot\n",
    "from bots.minimax.minimax import MiniMaxBot\n",
    "from bots.alphabeta.alphabeta import AlphaBetaBot"
   ]
  },
  {
   "cell_type": "markdown",
   "metadata": {},
   "source": [
    "## MINIMAX Adversarial Games\n",
    "Now we will build some bots that search the game tree by using the MiniMax algorithm and show genuinely intelligent behavior. Because we only have partial information, and as there would be too many belief-states, we play these bots on the 2nd phase of the game only, when the stock has been exhausted, such that the state of all cards is known and no assumptions have to be made."
   ]
  },
  {
   "cell_type": "markdown",
   "metadata": {},
   "source": [
    "All you need to do to finish the minimax bot (see Task 1). The skeleton given in the code differs slightly from the pseudocode from the lecture in that instead of having two sub-methods, all is implemented in one method. Take your time to really understand the minimax algorithm, recursion, and the rest of the code. \n",
    "The following pseudo code can help you to finish Task 1."
   ]
  },
  {
   "cell_type": "raw",
   "metadata": {},
   "source": [
    "function VALUE(state) returns a utility value, move \n",
    "  # First we initialise the values for best_value (which we need to calculate the MIN and MAX later.   \n",
    "  best_value = -infinity if MAXMOVE, +infinity if MINMOVE\n",
    "  # then we check for the terminal states of our search tree, either if there are no more successors, or in case we ran over the maximal depths (set in minimax.py)\n",
    "  if TERMINAL-TEST(state) then return UTILITY(state)\n",
    "  if DEPTH = max_depth then return heuristic_value(state)\n",
    "\n",
    "  # Now we calculate the values of the successor states, and choose the maximal one (or minimal) depending in which state we are. \n",
    "  for move in SUCCESSORS(state) do \n",
    "    next_move = SUCCESSOR(move)\n",
    "    value = VALUE(next_move)   # This is a recursive call, in which we calculate the optimal value for the opponent to play\n",
    "\n",
    "    if MAXMOVE # This is information provided by the game-engine as a function in the state class. \n",
    "        best_value is now calculated as the maximum between the value of the next_move and the previously calculated value (!)\n",
    "        best_move is set to the the move with the current best value  (!)\n",
    "    else \n",
    "        best_value is now calculated as the minimum between the value of the next_move and the previously calculated value  (!)\n",
    "        best_move is set to the the move with the current best value  (!) \n",
    "  return best_value, best_move"
   ]
  },
  {
   "cell_type": "markdown",
   "metadata": {},
   "source": [
    "### Task 1\n",
    "Implement the parts of the algorithm marked \"???\" in the code  (lines 114-120) of the minimax.py program in the bot directory ([./bots/minimax/minimax.py](./bots/minimax/minimax.py)). Please write down your new code in the following cell. \n",
    "\n",
    "Once you have done this, you can check whether you algorithm runs correctly."
   ]
  },
  {
   "cell_type": "code",
   "execution_count": null,
   "metadata": {},
   "outputs": [],
   "source": [
    "MyCode1 =\"\"\"\n",
    "Please also put your code here. \n",
    "\"\"\""
   ]
  },
  {
   "cell_type": "markdown",
   "metadata": {},
   "source": [
    "This cell sets up a function that Plays a game in Phase 2 of schnapsen, given 2 bots"
   ]
  },
  {
   "cell_type": "code",
   "execution_count": 5,
   "metadata": {},
   "outputs": [],
   "source": [
    "# engine setup\n",
    "def phase2_game(bot1: Bot, bot2: Bot, rand: random.Random = random.Random()) -> (Bot, int, Score):\n",
    "    \"\"\"initializes a game between two bots and returns the winner id, game points and score\n",
    "    :param bot1: the first bot\n",
    "    :param bot2: the second bot\n",
    "    :return: the winner bot (id), game points and score\"\"\"\n",
    "    \n",
    "    engine = SchnapsenGamePlayEngine()\n",
    "    deck_generator = SchnapsenDeckGenerator()\n",
    "    handgenerator = SchnapsenHandGenerator()\n",
    "\n",
    "    # randomly choose who is the leader (gets to make the first move)\n",
    "    leader, follower = rand.sample([bot1, bot2], 2)\n",
    "\n",
    "    # Setup game in phase 2\n",
    "    # generate a deck of cards, shuffle them and deal them to the players\n",
    "    cards = deck_generator.get_initial_deck()\n",
    "    shuffled = deck_generator.shuffle_deck(cards, rand)\n",
    "    hand1, hand2, talon = handgenerator.generateHands(shuffled)\n",
    "\n",
    "    leader_state = BotState(implementation=leader, hand=hand1)\n",
    "    follower_state = BotState(implementation=follower, hand=hand2)\n",
    "    game_state = GameState(\n",
    "                leader=leader_state,\n",
    "                follower=follower_state,\n",
    "                talon=Talon([], trump_suit = rand.choice([Suit.HEARTS, Suit.CLUBS, Suit.SPADES, Suit.DIAMONDS])),\n",
    "                previous=None\n",
    "            )\n",
    "    \n",
    "    winner_id, game_points, score = engine.play_game_from_state_with_new_bots(game_state=game_state, new_leader = bot1, new_follower = bot2, leader_move=None)\n",
    "    \n",
    "    return winner_id, game_points, score"
   ]
  },
  {
   "cell_type": "markdown",
   "metadata": {},
   "source": [
    "This cell pits the two bots against each other in the initialized gamestate"
   ]
  },
  {
   "cell_type": "code",
   "execution_count": 15,
   "metadata": {},
   "outputs": [
    {
     "name": "stdout",
     "output_type": "stream",
     "text": [
      "randbot vs minimax\n",
      "Game ended. Winner is minimax with 1 points and Score(direct_points=30, pending_points=0)\n"
     ]
    }
   ],
   "source": [
    "# Initialize Players\n",
    "player1: RandBot = RandBot(rand=random.Random(), name=\"randbot\")\n",
    "player2: MiniMaxBot = MiniMaxBot(name=\"minimax\")\n",
    "\n",
    "# Play Game\n",
    "print(f\"{player1} vs {player2}\")\n",
    "winner_id, game_points, score = phase2_game(player1, player2, rand = random.Random())\n",
    "print(f\"Game ended. Winner is {winner_id} with {game_points} points and {score}\")"
   ]
  },
  {
   "cell_type": "markdown",
   "metadata": {},
   "source": [
    "## MINIMAX inner workings \n",
    "\n",
    "### Task 2\n",
    "\n",
    "In our implementation of the minimax algorithm, minimax can only be used for the phase 2 of the schnapsen game. Why can't it be used for the phase 1?\n"
   ]
  },
  {
   "cell_type": "code",
   "execution_count": null,
   "metadata": {},
   "outputs": [],
   "source": [
    "Report1 = \"\"\"\n",
    "Put your explanation here.\n",
    "\"\"\""
   ]
  },
  {
   "cell_type": "markdown",
   "metadata": {},
   "source": [
    "### Task 3\n",
    "In some minimax algorithms, something called \"heuristics\" are also used, although this is not used in our implementation. Why do you think this wasn't used?\n"
   ]
  },
  {
   "cell_type": "code",
   "execution_count": null,
   "metadata": {},
   "outputs": [],
   "source": [
    "Report2 = \"\"\"\n",
    "Put your explanation here.\n",
    "\"\"\""
   ]
  },
  {
   "cell_type": "markdown",
   "metadata": {},
   "source": [
    "## Alphabeta\n",
    "\n",
    "Finally let us look at Alphabeta pruning. Alphabeta pruning is a technique to make minimax faster. If implemented correctly, it will do exactly the same  thing minimax does, but skip large parts of the search tree. We've provided a basic implementation in ([./bots/alphabeta/alphabeta.py](./bots/alphabeta/alphabeta.py)). \n",
    "\n",
    "### Task 4\n",
    "\n",
    "Once again, one crucial bit of the implementation are missing, the decision on when to prune. Finish the implementation of the alphabeta bot (lines 113 and 122). Copy the line of code you adapted in the skeleton file alphabeta.py into the following cell: \n",
    "\n"
   ]
  },
  {
   "cell_type": "code",
   "execution_count": null,
   "metadata": {},
   "outputs": [],
   "source": [
    "MyCode2 =\"\"\"\n",
    "Please also put your code here. \n",
    "\"\"\""
   ]
  },
  {
   "cell_type": "markdown",
   "metadata": {},
   "source": [
    "The following programme lets you see if you implemented alphabeta and minimax correctly. Run it, and check the outcome. \n"
   ]
  },
  {
   "cell_type": "code",
   "execution_count": 17,
   "metadata": {},
   "outputs": [
    {
     "name": "stdout",
     "output_type": "stream",
     "text": [
      "Average length of game:\n",
      "- average time Minimax: 0.09000027179718018\n",
      "- average time Alphabeta: 0.022000551223754883.\n",
      "Alphabeta's games were 409.08% faster\n",
      "Minimax Wins: 1/2, Alphabeta Wins: 1/2.\n"
     ]
    }
   ],
   "source": [
    "import time\n",
    "REPEATS = 100\n",
    "\n",
    "mm_wins = 0\n",
    "ab_wins = 0\n",
    "\n",
    "\n",
    "mm_times = []\n",
    "ab_times = []\n",
    "\n",
    "# Repeat\n",
    "for r in range(REPEATS):\n",
    "    # initialize seeds:\n",
    "    rndseed = random.randint(0,1000)\n",
    "    gamestateseed = random.randint(0,1000)\n",
    "    \n",
    "    # Run MM vs Random\n",
    "    mmstart = time.time()\n",
    "    mm = MiniMaxBot(name=\"minimax\")\n",
    "    rnd = RandBot(rand = random.Random(rndseed), name=\"randbot\")    \n",
    "    mmwin, _,_, = phase2_game(mm, rnd, rand = random.Random(gamestateseed))\n",
    "    mm_times.append(time.time() - mmstart)\n",
    "    \n",
    "    # Run AB vs identical Random\n",
    "    abstart = time.time()\n",
    "    ab = AlphaBetaBot(name=\"AlphaBeta\")\n",
    "    rnd = RandBot(rand = random.Random(rndseed), name=\"randbot\")\n",
    "    abwin, _,_, = phase2_game(ab, rnd, rand = random.Random(gamestateseed))\n",
    "    ab_times.append(time.time() - abstart)\n",
    "\n",
    "    # count number of wins\n",
    "    if mmwin == mm:\n",
    "        mm_wins += 1\n",
    "\n",
    "    if abwin == ab:\n",
    "        ab_wins += 1\n",
    "\n",
    "\n",
    "mm_average = sum(mm_times)/len(mm_times)\n",
    "ab_average = sum(ab_times)/len(ab_times)\n",
    "\n",
    "print('Average length of game:\\n\\\n",
    "- average time Minimax: {}\\n\\\n",
    "- average time Alphabeta: {}.'.format(mm_average, ab_average))\n",
    "print('Alphabeta\\'s games were {:.2f}% faster'.format((mm_average * 100)/ab_average))\n",
    "print('Minimax Wins: {}/{}, Alphabeta Wins: {}/{}.'.format(mm_wins, REPEATS, ab_wins, REPEATS))"
   ]
  },
  {
   "cell_type": "markdown",
   "metadata": {},
   "source": [
    "## Final Task: Collect all the results\n",
    "\n",
    "Uncomment and run this cell (and all the cells above) to generate the text file that you have to hand in together with the notebook on canvas!\n",
    "\n",
    "### Please hand in only the text file which is generated by this method!"
   ]
  },
  {
   "cell_type": "code",
   "execution_count": null,
   "metadata": {},
   "outputs": [],
   "source": [
    "def exportToText(*args):\n",
    "    with open(args[0], \"w\") as f:\n",
    "        for argument in args:\n",
    "            f.write(\"{}\\n\".format(argument))\n",
    "            \n",
    "exportToText(\"assignment5.txt\", Report1, Report2, MyCode1, MyCode2)"
   ]
  }
 ],
 "metadata": {
  "kernelspec": {
   "display_name": "Python 3",
   "language": "python",
   "name": "python3"
  },
  "language_info": {
   "codemirror_mode": {
    "name": "ipython",
    "version": 3
   },
   "file_extension": ".py",
   "mimetype": "text/x-python",
   "name": "python",
   "nbconvert_exporter": "python",
   "pygments_lexer": "ipython3",
   "version": "3.10.12"
  }
 },
 "nbformat": 4,
 "nbformat_minor": 4
}
