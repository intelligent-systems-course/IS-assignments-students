{
 "cells": [
  {
   "cell_type": "markdown",
   "metadata": {},
   "source": [
    "# Intelligent Systems 2023: Practical Assignment 11\n",
    "\n",
    "## Machine Learning Agents\n",
    "\n",
    "Your name:\n",
    "\n",
    "Your VUnetID:\n",
    "\n",
    "If you do not provide your name and VUnetID we will not accept your submission.\n",
    "\n",
    "### Preliminaries\n",
    "\n",
    "At the end of this exercise you should be able to work with some basic Machine Learning concepts, and implement and evaluate a learning-based approach to playing Schnapsen. In this notebook we are going to create an adaptive bot. We will use the principle discussed in the machine learning lecture, but now in an agent setting. This comes down to using basic hill-climbing search, but learn the heuristic function rather than implementing it. This will require a few basic ingredients.\n",
    "\n",
    "Feature vectors were discussed in the lecture. Didn't get it, or working ahead? See\n",
    "https://brilliant.org/wiki/feature-vector/\n",
    "https://www.youtube.com/watch?v=3Vy47dbI708\n",
    "\n",
    "### Practicalities\n",
    "\n",
    "Follow this Notebook step-by-step. For this course it is necessary that you manipulate the python programmes we provide. You can do the exercises in any Programming Editor of your liking. Still, please fill in the questions in this notebook as usual. You can also run tournaments in it if you want, but running them in your editor or via the commandline seems much more convenient.\n",
    "\n",
    "Please use your studentID+Assignment6.ipynb as the name of the Notebook, and fill in the missing cells.\n",
    "\n",
    "Note: unlike the courses dedicated to programming we will not evaluate the style of the programs. But we will, however, test your programs on other data that we provide, and your program should give the correct output to the test-data as well.\n",
    "\n",
    "As was mentioned, the assignment is graded as pass/fail. To pass you need to have either a full working code or an explanation of what you tried and what didn't work for the tasks that you were unable to complete (you can use multi-line comments or a text cell).\n",
    "\n",
    "## Initialising\n",
    "\n",
    "First, we have to install the schnapsen python package.\n",
    "Run the below code cell.\n",
    "After running the cell, you have the schnapsen Github repository cloned in your current directory.\n",
    "You can find the new directory created with the name `schnapsen`.\n",
    "The detailed installation instructions can be found in the [README.md](https://github.com/intelligent-systems-course/schnapsen) of the repo.\n"
   ]
  },
  {
   "cell_type": "code",
   "execution_count": null,
   "metadata": {},
   "outputs": [],
   "source": [
    "# If you are on a UNIX system (Linux or Mac OS)\n",
    "!pip uninstall schnapsen -y && rm -rf schnapsen && git clone https://github.com/intelligent-systems-course/schnapsen && cd schnapsen && pip install -e . && cd .."
   ]
  },
  {
   "cell_type": "code",
   "execution_count": null,
   "metadata": {},
   "outputs": [],
   "source": [
    "# If you are on Windows\n",
    "!pip uninstall schnapsen -y rd /s /q schnapsen && git clone https://github.com/intelligent-systems-course/schnapsen && cd schnapsen && pip install -e . && cd .."
   ]
  },
  {
   "cell_type": "markdown",
   "metadata": {},
   "source": [
    "## (Supervised) machine learning\n",
    "\n",
    "So far, we've been trying to come up with bots that rely on heuristics and search\n",
    "algorithms, e.g., Minimax, Monte-Carlo Tree Search, etc. This assignment, instead, will\n",
    "focus on learning-based methods, where the agent, given a state, learns what moves \n",
    "(actions) lead to winning. You might have heard of [AlphaGo](https://en.wikipedia.org/wiki/AlphaGo),\n",
    "which actually combines both a Monte Carlo tree search algorithm and machine learning.\n",
    "Schnapsen is no different from the game of Go, except that it's state / aciton spaces are\n",
    "much smaller, and also it involves an imperfect information phase.\n",
    "\n",
    "Typically for these kinds of board games, reinforcement learning (RL), which is a branch of\n",
    "machine learning is used. However, RL is out of scope for this assignment. Therefore,\n",
    "we will do something untypical. We'll use supervised learning (SL), instead of RL.\n",
    "\n",
    "This will still give you a glimpse of machine learning, and hopefully in the future,\n",
    "you'll understand why RL is more suitable for this kind of task, and come up with your\n",
    "own RL algorithm to solve it.\n",
    "\n",
    "SL typicall includes three big steps:\n",
    "\n",
    "1. Collect data.\n",
    "2. Train a ML model with the collected data.\n",
    "3. Run and evaluate the trained model.\n",
    "\n",
    "All the functions and classes we need are included in [`ml_bot.py`](./ml_bot.py). \n",
    "Let's go through them one by one. "
   ]
  },
  {
   "cell_type": "markdown",
   "metadata": {},
   "source": [
    "### 1. Collect data\n",
    "\n",
    "We'll collect supervised data, meaning that every $x$ has its label $y$.\n",
    "\n",
    "For example, if $x$ is an image of a dog, then $y$ is 0, and if $x$ is an image of a cat,\n",
    "then $y$ is 1.\n",
    "\n",
    "In our case, $x$ is what the agent sees + the moves that the leader and the follower take, \n",
    "and $y$ is 0 if this move resulted in losing, and 1 if it resulted in winning.\n",
    "\n",
    "It's easy for us to express \"what the agent sees + the moves that the leader and the follower take\" in human langauge, but this is not easy for the machine to understand. Therefore, we'll\n",
    "have to convert it to numbers, e.g., 0's and 1's, so that it can understand."
   ]
  },
  {
   "cell_type": "markdown",
   "metadata": {},
   "source": [
    "#### Task 1:\n",
    "\n",
    "The function `def create_state_and_actions_vector_representation()` in [`ml_bot.py`](./ml_bot.py)\n",
    "does this job. This function takes three arguments, `perspective`, `leader_move`, and `follower_move`, and return them as a vector of numbers so that the machine can understand.\n",
    "\n",
    "The three variables `player_game_state_representation`, `leader_move_representation`, and `follower_move_representation` are marked with `???`. You have to call the necessary \n",
    "functions with the correct arguments to get the correct values (features) for them.\n",
    "\n",
    "Write them down in the below cell."
   ]
  },
  {
   "cell_type": "code",
   "execution_count": null,
   "metadata": {},
   "outputs": [],
   "source": [
    "MyCode1 = \"\"\"\n",
    "Write your code here.\n",
    "\"\"\""
   ]
  },
  {
   "cell_type": "markdown",
   "metadata": {},
   "source": [
    "#### Task 2\n",
    "\n",
    "Now that the function `def create_state_and_actions_vector_representation()` is ready to use,\n",
    "we will collect data by calling the function `def create_replay_memory_dataset()`.\n",
    "\n",
    "Simply running the below cell won't work, since this function takes two arguments:\n",
    "`bot1` and `bot2`.\n",
    "Try to understand the function by looking at the docstring, and run the function by\n",
    "specifying the bots.\n",
    "You can provide the function with any bots, but let us start with `RandBot`.\n",
    "Go to our previous assignments on how to instantiate the `Bot` objects.\n",
    "\n",
    "Write your code in `MyCode2`."
   ]
  },
  {
   "cell_type": "code",
   "execution_count": null,
   "metadata": {},
   "outputs": [],
   "source": [
    "import random\n",
    "from schnapsen.bots import RandBot\n",
    "from ml_bot import create_replay_memory_dataset\n",
    "\n",
    "bot1 = ???\n",
    "bot2 = ???\n",
    "\n",
    "create_replay_memory_dataset(bot1=bot1, bot2=bot2)"
   ]
  },
  {
   "cell_type": "code",
   "execution_count": null,
   "metadata": {},
   "outputs": [],
   "source": [
    "MyCode2 = \"\"\"\n",
    "Write your code here.\n",
    "\"\"\""
   ]
  },
  {
   "cell_type": "markdown",
   "metadata": {},
   "source": [
    "Now the offline data is collected, and saved at `./ML_replay_memories/random_random_10k_games.txt`\n",
    "\n",
    "#### Task 3\n",
    "\n",
    "Let's see what it looks like. Every row is a pair of $(x^{(i)}, y^{(i)})$, where \n",
    "$x^{(i)}$ is \"what the agent sees + the moves that the leader and the follower take\",\n",
    "and $y^{(i)}$ is a label. Often we also call $x^{(i)}$ as a feature and $y^{(i)}$ as\n",
    "a target.\n",
    "\n",
    "As you can see now they are now all numbers so that the machine can understand, but\n",
    "perhaps not so easy for you as a human, since the feature extraction (converting to \n",
    "numeric values) is done by us, not by you. But you can go through the code and try to\n",
    "understand how these feature extractions were done. In the below cell, (1) explain what \n",
    "the numbers before and after `||`, and (2) what these numbers mean."
   ]
  },
  {
   "cell_type": "code",
   "execution_count": null,
   "metadata": {},
   "outputs": [],
   "source": [
    "MyReport1 = \"\"\"\n",
    "Write your report here.\n",
    "\"\"\""
   ]
  },
  {
   "cell_type": "markdown",
   "metadata": {},
   "source": [
    "### 2. Train a ML model with the collected data.\n",
    "\n",
    "Now we will train a ML model! Our model $f_{\\bm{\\theta}}(x) = \\hat{y}$ is a function that\n",
    "maps $x$ to $\\hat{y}$, where $\\bm{\\theta}$ are learanble parameters. As all of our target \n",
    "values, i.e., $y$ are categorical values, we will treat this as a classification problem,\n",
    "rather than a regression problem. There are a numerous machine learning models we can use\n",
    "for a classification problem, but in our assignment, we will only try two and compare \n",
    "them."
   ]
  },
  {
   "cell_type": "markdown",
   "metadata": {},
   "source": [
    "#### Task 4. \n",
    "\n",
    "The below cell will run training, but you have to give it an argument first. Look at \n",
    "the code and (1) explain what arguments does it take? (2) What are the differences \n",
    "between the arguments?"
   ]
  },
  {
   "cell_type": "code",
   "execution_count": null,
   "metadata": {},
   "outputs": [],
   "source": [
    "from ml_bot_with_answers import train_model\n",
    "\n",
    "train_model()"
   ]
  },
  {
   "cell_type": "code",
   "execution_count": null,
   "metadata": {},
   "outputs": [],
   "source": [
    "MyReport2 = \"\"\"\n",
    "Write your code here.\n",
    "\"\"\""
   ]
  },
  {
   "cell_type": "markdown",
   "metadata": {},
   "source": [
    "### 3. Run and evaluate the trained model.\n",
    "\n",
    "#### Task 5\n",
    "\n",
    "Now your model, depending on what argument you gave above, is trained and saved at\n",
    "`./ML_models/simple_model`. It's time for us to load this model, and put this on a test.\n",
    "We'll first let our ML model play against a RandBot. \n",
    "\n",
    "The below cell is not complete. The class `MLPlayingBot` and `RandBot` takes arguments,\n",
    "and they are not given. Specify the arguments, and copy the code in `MyCode3`"
   ]
  },
  {
   "cell_type": "code",
   "execution_count": null,
   "metadata": {},
   "outputs": [],
   "source": [
    "import pathlib\n",
    "import random\n",
    "\n",
    "from schnapsen.game import SchnapsenGamePlayEngine\n",
    "from schnapsen.bots import RandBot\n",
    "\n",
    "from ml_bot_with_answers import MLPlayingBot\n",
    "\n",
    "engine = SchnapsenGamePlayEngine()\n",
    "model_dir = \"ML_models\"\n",
    "model_name = \"simple_model\"\n",
    "model_location = pathlib.Path(model_dir) / model_name\n",
    "\n",
    "bot1 = MLPlayingBot()\n",
    "bot2 = RandBot()\n",
    "\n",
    "winner_id, game_points, score = engine.play_game(bot1, bot2, random.Random(0))\n",
    "print(f\"Game ended. Winner is {winner_id} with {game_points} points and {score}\")"
   ]
  },
  {
   "cell_type": "code",
   "execution_count": null,
   "metadata": {},
   "outputs": [],
   "source": [
    "MyCode3 = \"\"\"\n",
    "import pathlib\n",
    "import random\n",
    "\n",
    "from schnapsen.game import SchnapsenGamePlayEngine\n",
    "from schnapsen.bots import RandBot\n",
    "\n",
    "from ml_bot_with_answers import MLPlayingBot\n",
    "\n",
    "engine = SchnapsenGamePlayEngine()\n",
    "model_dir = \"ML_models\"\n",
    "model_name = \"simple_model\"\n",
    "model_location = pathlib.Path(model_dir) / model_name\n",
    "\n",
    "bot1 = MLPlayingBot(model_location=model_location, name=\"MLBot\")\n",
    "bot2 = RandBot(random.Random(42), name=\"RandBot\")\n",
    "\n",
    "winner_id, game_points, score = engine.play_game(bot1, bot2, random.Random(0))\n",
    "print(f\"Game ended. Winner is {winner_id} with {game_points} points and {score}\")\n",
    "\"\"\""
   ]
  },
  {
   "cell_type": "markdown",
   "metadata": {},
   "source": [
    "#### Task 6\n",
    "\n",
    "The above cell only runs one game MLBot vs. RandBot. As you have learned already, since \n",
    "there is always randomness involved, we should play this game multiple times and compare\n",
    "the results. In the below cell, write code for a round-robin tournament where $N$ bots\n",
    "play against each other. One of them has to be an MLBot, and the other $N-1$ can be any\n",
    "bots that you have learend in this course. $N$ should be higher than 2. You can use \n",
    "the code from the previous assignments.\n"
   ]
  },
  {
   "cell_type": "code",
   "execution_count": null,
   "metadata": {},
   "outputs": [],
   "source": []
  },
  {
   "cell_type": "code",
   "execution_count": null,
   "metadata": {},
   "outputs": [],
   "source": [
    "MyCode4 = \"\"\"\n",
    "Write your code here.\n",
    "\"\"\""
   ]
  },
  {
   "cell_type": "markdown",
   "metadata": {},
   "source": [
    "In the below cell, write down the results of your experiment."
   ]
  },
  {
   "cell_type": "code",
   "execution_count": null,
   "metadata": {},
   "outputs": [],
   "source": [
    "MyReport3 = \"\"\"\n",
    "Write your report here.\n",
    "\"\"\""
   ]
  },
  {
   "cell_type": "markdown",
   "metadata": {},
   "source": [
    "## Final Task: Collect all the results\n",
    "\n",
    "Uncomment and run this cell (and all the cells above) to generate the text file that you have to hand in together with the notebook on canvas!\n",
    "\n",
    "### Please hand in only the text file which is generated by this method!"
   ]
  },
  {
   "cell_type": "code",
   "execution_count": null,
   "metadata": {},
   "outputs": [],
   "source": [
    "def exportToText(*args):\n",
    "    with open(args[0], \"w\") as f:\n",
    "        for argument in args:\n",
    "            f.write(\"{}\\n\".format(argument))\n",
    "\n",
    "exportToText(\"assignment6.txt\", MyCode1, MyCode2, MyReport1, MyReport2, MyCode3, MyCode4, MyReport3)"
   ]
  },
  {
   "cell_type": "markdown",
   "metadata": {},
   "source": [
    "Congrats on finishing all the assignments!\n",
    "\n",
    "Machine learning, especially deep learning, has become a key to solving many difficult\n",
    "problems in AI, the past 10 years, ranging from board games, self-driving cars, to \n",
    "scientific discoveries.\n",
    "\n",
    "This assignment only touched upon a small tiny fraction of machine learning and what it\n",
    "can do. If you are interested in machine learning, feel free to check out numerous online \n",
    "materials and the related VU courses.\n",
    "\n",
    "Have fun. To be continued in Project Intelligent Systems in Period 3. "
   ]
  }
 ],
 "metadata": {
  "kernelspec": {
   "display_name": "Python 3",
   "language": "python",
   "name": "python3"
  },
  "language_info": {
   "codemirror_mode": {
    "name": "ipython",
    "version": 3
   },
   "file_extension": ".py",
   "mimetype": "text/x-python",
   "name": "python",
   "nbconvert_exporter": "python",
   "pygments_lexer": "ipython3",
   "version": "3.10.12"
  }
 },
 "nbformat": 4,
 "nbformat_minor": 4
}
