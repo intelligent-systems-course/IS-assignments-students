{
 "cells": [
  {
   "cell_type": "markdown",
   "metadata": {},
   "source": [
    "# Intelligent Systems 2023: Practical Assignment 09\n",
    "\n",
    "\n",
    "Your name: \n",
    "\n",
    "Your VUnetID: \n",
    "\n",
    "If you do not provide your name and VUnetID we will not accept your submission. \n",
    "\n",
    "### Learning objectives\n",
    "At the end of this exercise you should be able to work with some basic fuzzy concepts, and implement and evaluate a simple probabilistic approach to playing Schnapsen. \n",
    "\n",
    "### Preliminaries\n",
    "\n",
    "In this worksheet we will implement a simple probabilistic strategy for an agent to play Schnapsen. \n",
    "\n",
    "\n",
    "### Practicalities\n",
    "\n",
    "Follow this Notebook step-by-step. \n",
    "\n",
    "Of course, you can do the exercises in any Programming Editor of your liking. But you do not have to. Feel free to simply write code in the Notebook. Please use your studentID+Assignment9.ipynb as the name of the Notebook.  \n",
    "\n",
    "Note: unlike the courses dedicated to programming we will not evaluate the style of the programs. But we will, however, test your programs on other data that we provide, and your program should give the correct output to the test-data as well.\n",
    "\n",
    "As was mentioned, the assignment is graded as pass/fail. To pass you need to have either a full working code or an explanation of what you tried and what didn't work for the tasks that you were unable to complete (you can use multi-line comments or a text cell).\n",
    "\n",
    "## Initialising\n",
    "\n",
    "First, we have to install the schnapsen python package. \n",
    "Run the below code cell.\n",
    "After running the cell, you have the schnapsen Github repository cloned in your current directory.\n",
    "You can find the new directory created with the name `schnapsen`.\n",
    "The detailed installation instructions can be found in the [README.md](https://github.com/intelligent-systems-course/schnapsen) of the repo.\n"
   ]
  },
  {
   "cell_type": "code",
   "execution_count": null,
   "metadata": {},
   "outputs": [],
   "source": [
    "# If you are on a UNIX system (Linux or Mac OS)\n",
    "!pip uninstall schnapsen -y && rm -rf schnapsen && git clone https://github.com/intelligent-systems-course/schnapsen && cd schnapsen && pip install -e . && cd .."
   ]
  },
  {
   "cell_type": "code",
   "execution_count": null,
   "metadata": {},
   "outputs": [],
   "source": [
    "# If you are on Windows\n",
    "!pip uninstall schnapsen -y rd /s /q schnapsen && git clone https://github.com/intelligent-systems-course/schnapsen && cd schnapsen && pip install -e . && cd .."
   ]
  },
  {
   "cell_type": "markdown",
   "metadata": {},
   "source": [
    "## A Probability-based Bot. \n",
    "\n",
    "Now it is time to move to a real rational agent that plays Schnapsen, and to implement a probabilistic bot. The idea of this bot is described on the Canvas page for this assignment and in the probability.py file. \n",
    "\n",
    "### Tasks 1:\n",
    "You will have to finish the implementation of a bot that uses probabilistic reasoning to determine its next move. All you have to do is fill in the missing code at the lines marked with \"???\". At these spots, we explain what you will have to do, but we strongly recommend that you also have a careful look at the entire bot, and the documentation of the code to get the overall idea.  "
   ]
  },
  {
   "cell_type": "markdown",
   "metadata": {},
   "source": [
    "Now you need to start coding. In this directory, there is a file `probability_bot.py`,\n",
    "which you'll have to adjust to get it work.\n",
    "\n",
    "The bot `ProbabilityRandBot` in this file plays by the probability rule in Phase 1,\n",
    "and RandBot in the Phase 2. \n",
    "\n",
    "The next step is to finish the implemenation of this file. Open it in your favourite Python Editor and fill in the gaps. \n",
    "\n",
    "First, in line 110, you will need to implement the probability that the opponent has a problemCard. \n",
    "\n",
    "In line 117, you will have to update the maximam probability value and the chosen move accordingly. \n",
    "\n",
    "Now we can run a game between rand and your new bot, to check whether everything works fine.\n",
    "\n"
   ]
  },
  {
   "cell_type": "code",
   "execution_count": null,
   "metadata": {},
   "outputs": [],
   "source": [
    "import random\n",
    "\n",
    "from schnapsen.bots import RandBot\n",
    "from schnapsen.game import SchnapsenGamePlayEngine\n",
    "from probability_bot import ProbabilityRandBot\n",
    "\n",
    "\n",
    "engine = SchnapsenGamePlayEngine()\n",
    "\n",
    "# Choose your first player\n",
    "player1 = \"RandBot\"\n",
    "player2 = \"ProbabilityRandBot\"\n",
    "\n",
    "\n",
    "winner, points, score = engine.play_game(\n",
    "    RandBot(random.Random(42), \"RandBot\"),\n",
    "    ProbabilityRandBot(random.Random(42), \"ProbabilityRandBot\"),\n",
    "    random.Random(0),\n",
    ")\n",
    "\n",
    "str(winner), points, score"
   ]
  },
  {
   "cell_type": "markdown",
   "metadata": {},
   "source": [
    "Provide in the following cell the code that you have written to make the probabilistic bot work:"
   ]
  },
  {
   "cell_type": "code",
   "execution_count": 2,
   "metadata": {},
   "outputs": [],
   "source": [
    "MyCode1 = \"\"\"\n",
    "probability = \n",
    "\"\"\""
   ]
  },
  {
   "cell_type": "markdown",
   "metadata": {},
   "source": [
    "### Task 2\n",
    "\n",
    "Run a tournament against some of the other bots, e.g. rand, kbbot or rdeep. Describe your findings in the next cell. "
   ]
  },
  {
   "cell_type": "code",
   "execution_count": null,
   "metadata": {},
   "outputs": [],
   "source": [
    "# Write the tournament code here"
   ]
  },
  {
   "cell_type": "code",
   "execution_count": 6,
   "metadata": {},
   "outputs": [],
   "source": [
    "MyReport1 = \"\"\"\n",
    "#Put your answer here\n",
    "\"\"\""
   ]
  },
  {
   "cell_type": "markdown",
   "metadata": {},
   "source": [
    "## Utility\n",
    "\n",
    "Unless we are very much mistaken, your new probability bot will not perform very well. One reason for this is that our probabilistic strategy has a serious flaw: the Aces and 10s have a high probability of not having a higher card of the same suit, so that our strategy will pick valuable cards in phase 1. This is a high-gain, but also a high-cost strategy, as a reasonably good opponent would trump those cards and win valuable points. \n",
    "\n",
    "One possible solution is to combine the probability of a card being easily beaten with the costs it takes to loose such a card. We do this by introducing a notion of utily, which simply divides the probability of being good by the costs of a potential loss of the played card. \n",
    "\n",
    "### Task 3 \n",
    "\n",
    "Now you need to do a bit of coding again. In this directory, you'll see `probability_bot_utility.py`, which includes the utility function on top of the probability we have been working on.\n",
    "\n",
    "The next step is to finish the implemenation of this file. Open it in your favourite Python Editor and fill in the gaps. \n",
    "\n",
    "First, you will need to copy / adapt the solutions from `probability_bot.py`, and add one more solution to the line 123\n"
   ]
  },
  {
   "cell_type": "code",
   "execution_count": null,
   "metadata": {},
   "outputs": [],
   "source": [
    "import random\n",
    "\n",
    "from schnapsen.bots import RandBot\n",
    "from schnapsen.game import SchnapsenGamePlayEngine\n",
    "from probability_bot_utility import ProbabilityUtilityRandBot\n",
    "\n",
    "\n",
    "engine = SchnapsenGamePlayEngine()\n",
    "\n",
    "# Choose your first player\n",
    "player1 = \"RandBot\"\n",
    "player2 = \"ProbabilityUtilityRandBot\"\n",
    "\n",
    "\n",
    "winner, points, score = engine.play_game(\n",
    "    RandBot(random.Random(42), \"RandBot\"),\n",
    "    ProbabilityRandBot(random.Random(42), \"ProbabilityUtilityRandBot\"),\n",
    "    random.Random(0),\n",
    ")\n",
    "\n",
    "str(winner), points, score"
   ]
  },
  {
   "cell_type": "code",
   "execution_count": 8,
   "metadata": {},
   "outputs": [],
   "source": [
    "MyCode2 =\"\"\"\n",
    "#Put your answer here for the line 123\n",
    "\"\"\""
   ]
  },
  {
   "cell_type": "markdown",
   "metadata": {},
   "source": [
    "### Task 4\n",
    "\n",
    "Now it is time to evaluate your two new bots: utility and probability. Run a number of tournaments in the next cell. \n",
    "Summarise what you did, and what the results were. "
   ]
  },
  {
   "cell_type": "code",
   "execution_count": null,
   "metadata": {},
   "outputs": [],
   "source": [
    "# Write the tournament code here"
   ]
  },
  {
   "cell_type": "code",
   "execution_count": 12,
   "metadata": {},
   "outputs": [],
   "source": [
    "MyReport2 =\"\"\"\n",
    "#Summarise what you did, and what the results were. \n",
    "\"\"\""
   ]
  },
  {
   "cell_type": "markdown",
   "metadata": {},
   "source": [
    "### Task 5\n",
    "\n",
    "Again, unless we are much mistaken, the results will be disappointing for both bots. The final task is to change one of the bots and try to improve it. \n",
    "In the next cell, describe what changes you attempted to make, add the code that you have changed or added, and report on the tournaments you ran (what did you do, and what were the results). \n",
    "\n",
    "Note: do not despair, this is not a simple task and chances are that you will not manage to improve performance much. But still, describe what you have tried. "
   ]
  },
  {
   "cell_type": "code",
   "execution_count": 15,
   "metadata": {},
   "outputs": [],
   "source": [
    "MyReport3 =\"\"\"\n",
    "describe what you have tried. \n",
    "\"\"\""
   ]
  },
  {
   "cell_type": "markdown",
   "metadata": {},
   "source": [
    "## Final Task: Collect all the results\n",
    "\n",
    "Uncomment and run this cell (and all the cells above) to generate the text file that you have to hand in together with the notebook on canvas!\n",
    "\n",
    "### Please hand in only the text file which is generated by this method!"
   ]
  },
  {
   "cell_type": "code",
   "execution_count": 16,
   "metadata": {},
   "outputs": [],
   "source": [
    "def exportToText(*args):\n",
    "    with open(args[0], \"w\") as f:\n",
    "        for argument in args:\n",
    "            f.write(\"{}\\n\".format(argument))\n",
    "\n",
    "exportToText(\"assignment9.txt\", MyCode1, MyCode2, MyReport1, MyReport2, MyReport3 )"
   ]
  }
 ],
 "metadata": {
  "kernelspec": {
   "display_name": "Python 3",
   "language": "python",
   "name": "python3"
  },
  "language_info": {
   "codemirror_mode": {
    "name": "ipython",
    "version": 3
   },
   "file_extension": ".py",
   "mimetype": "text/x-python",
   "name": "python",
   "nbconvert_exporter": "python",
   "pygments_lexer": "ipython3",
   "version": "3.10.12"
  }
 },
 "nbformat": 4,
 "nbformat_minor": 4
}
