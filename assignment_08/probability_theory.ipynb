{
 "cells": [
  {
   "cell_type": "markdown",
   "metadata": {},
   "source": [
    "# Intelligent Systems 2023: Practical Assignment 08\n",
    "\n",
    "\n",
    "Your name: \n",
    "\n",
    "Your VUnetID: \n",
    "\n",
    "If you do not provide your name and VUnetID we will not accept your submission. \n",
    "\n",
    "### Learning objectives\n",
    "At the end of this exercise you should be able to work with some basic fuzzy concepts, and implement and evaluate a simple probabilistic approach to playing Schnapsen. \n",
    "\n",
    "### Preliminaries\n",
    "\n",
    "In this worksheet we will learn some basics about probability theory.\n",
    "\n",
    "\n",
    "### Practicalities\n",
    "\n",
    "Follow this Notebook step-by-step. \n",
    "\n",
    "Of course, you can do the exercises in any Programming Editor of your liking. But you do not have to. Feel free to simply write code in the Notebook. Please use your studentID+Assignment8.ipynb as the name of the Notebook.  \n",
    "\n",
    "Note: unlike the courses dedicated to programming we will not evaluate the style of the programs. But we will, however, test your programs on other data that we provide, and your program should give the correct output to the test-data as well.\n",
    "\n",
    "As was mentioned, the assignment is graded as pass/fail. To pass you need to have either a full working code or an explanation of what you tried and what didn't work for the tasks that you were unable to complete (you can use multi-line comments or a text cell).\n",
    "\n",
    "## Initialising\n",
    "\n",
    "First, we have to install the schnapsen python package. \n",
    "Run the below code cell.\n",
    "After running the cell, you have the schnapsen Github repository cloned in your current directory.\n",
    "You can find the new directory created with the name `schnapsen`.\n",
    "The detailed installation instructions can be found in the [README.md](https://github.com/intelligent-systems-course/schnapsen) of the repo."
   ]
  },
  {
   "cell_type": "code",
   "execution_count": null,
   "metadata": {},
   "outputs": [],
   "source": [
    "# If you are on a UNIX system (Linux or Mac OS)\n",
    "!pip uninstall schnapsen -y && rm -rf schnapsen && git clone https://github.com/intelligent-systems-course/schnapsen && cd schnapsen && pip install -e . && cd .."
   ]
  },
  {
   "cell_type": "code",
   "execution_count": null,
   "metadata": {},
   "outputs": [],
   "source": [
    "# If you are on Windows\n",
    "!pip uninstall schnapsen -y rd /s /q schnapsen && git clone https://github.com/intelligent-systems-course/schnapsen && cd schnapsen && pip install -e . && cd .."
   ]
  },
  {
   "cell_type": "markdown",
   "metadata": {},
   "source": [
    "When you install a python package, e.g., `schnapsen`, directly from a Jupyter Notebook, with a command, e.g., `!rm -rf schnapsen && git clone https://github.com/intelligent-systems-course/schnapsen && cd schnapsen && pip install -e . && cd ..`, your Python kernel might not know that the package is installed yet. This can throw a `ModuleNotFoundError`, `ModuleNotFoundError: No module named 'schnapsen.game'`.\n",
    "\n",
    "If you encounter this, simply restart the kernel and proceed."
   ]
  },
  {
   "cell_type": "markdown",
   "metadata": {},
   "source": [
    "## Probability Theory and Combinatorics"
   ]
  },
  {
   "cell_type": "markdown",
   "metadata": {},
   "source": [
    "### Task 1:\n",
    "\n",
    "In this task, we will work with table that we already used in the lecture.\n",
    "![table](table.png)\n",
    "\n",
    "\n",
    "You are supposed to implement Bayes theorem in its own function. Given the probability P(A), P(B), and P(B|A), you should try to implement a function that prints P(A|B).\n",
    "\n",
    "Use the following probabilities and your Bayes theorem function to compute the probability for P(value>4 = true | diamond):\n",
    "- P(diamond|Value>4=True) = 1/9 \n",
    "- P(heart) = 4/9  \n",
    "- P(Value>4 = False)= 4/9\n",
    "\n",
    "Adapt the code below such that it can compute the bayes probability and run it."
   ]
  },
  {
   "cell_type": "code",
   "execution_count": null,
   "metadata": {},
   "outputs": [],
   "source": [
    "def bayes_theorem(p_a, p_b, p_ba):\n",
    "    #please compute p_ab\n",
    "    p_ab = 0\n",
    "    print(p_ab)\n",
    "    \n",
    "    return(p_ab)\n",
    "#run it with the values from above\n",
    "bayes_theorem(0,0,0)"
   ]
  },
  {
   "cell_type": "markdown",
   "metadata": {},
   "source": [
    "### Joint Probability Distributions\n",
    "\n",
    "In the next tasks, we will compute the joint probability distribution for the three random variables: LowCard(L), Diamond(D), and BlackWedding(B).\n",
    "- LowCards is true for either jacks, queens, and kings\n",
    "- Diamond is true for all cards of the suit diamond\n",
    "- BlackWeeding is true for all black queens and kings: QueenSpades, QueenClubs, KingSpades, KingClubs\n",
    "\n",
    "\n",
    "In the following code snippet, for every card of the game, we first define the three properties (L,D,B) as boolean variables.\n",
    "\n",
    "Afterwards, we define a function that creates a random subset of all cards. These are the unknown cards (cards in the tallon and in the opponents hand) in the game.\n",
    "You can hand over a variable k which determines the size of the random cards which are picked from all cards. The random cards are also printed.\n",
    "\n",
    "In the upcoming tasks, we will compute probabilities for different game situations."
   ]
  },
  {
   "cell_type": "code",
   "execution_count": null,
   "metadata": {},
   "outputs": [],
   "source": [
    "jackHearts = ('JackHearts',True, False, False)\n",
    "jackSpades  = ('JackSpades',True, False, False)\n",
    "jackDiamonds = ('JackDiamonds',True, True, False)\n",
    "jackClubs = ('JackClubs',True, False, False)\n",
    "\n",
    "queenHearts = ('QueenHearts',True, False, False)\n",
    "queenSpades = ('QueenSpades',True, False, True)\n",
    "queenDiamonds = ('QueenDiamonds',True, True, False)\n",
    "queenClubs = ('QueenClubs',True, False, True)\n",
    "\n",
    "kingHearts = ('KingHearts',True, False, False)\n",
    "kingSpades = ('KingSpades',True, False, True)\n",
    "kingDiamonds = ('KingDiamonds',True, True, False)\n",
    "kingClubs = ('KingClubs',True, False, True)\n",
    "\n",
    "tenHearts = ('TenHearts',False, False, False)\n",
    "tenSpades = ('TenSpades',False, False, False)\n",
    "tenDiamonds = ('TenDiamonds',False, True, False)\n",
    "tenClubs = ('TenClubs',False, False, False)\n",
    "\n",
    "aceHearts = ('AceHearts',False, False, False)\n",
    "aceSpades = ('AceSpades',False, False, False)\n",
    "aceDiamonds = ('AceDiamonds',False, True, False)\n",
    "aceClubs = ('AceClubs',False, False, False)\n",
    "\n",
    "allCards = [jackHearts, jackSpades , jackDiamonds, jackClubs, queenHearts, queenSpades, queenDiamonds, queenClubs, kingHearts, kingSpades, kingDiamonds, kingClubs, tenHearts, tenSpades, tenDiamonds, tenClubs, aceHearts, aceSpades, aceDiamonds, aceClubs]\n",
    "\n",
    "import random\n",
    "\n",
    "#number of random cards you want to get from the list\n",
    "k = 12\n",
    "randomCards = random.sample(allCards, k)\n",
    "\n",
    "for card in randomCards:\n",
    "    print(card[0])\n",
    "\n",
    "\n"
   ]
  },
  {
   "cell_type": "markdown",
   "metadata": {},
   "source": [
    "### Task 2\n",
    "\n",
    "In this task, we want to compute the joint probability distribution for the three random variables LowCard(L), Diamond(D), and BlackWedding(B).\n",
    "Instead the distribution for all possible combinations of the random variables, we will code a function which can compute the joint probability for a single combination of random variables.\n",
    "\n",
    "As an example, the you should be able to compute the joint probability P(L=True, D=True, B = False) given a random set of cards.\n",
    "\n",
    "\n",
    "Your task is to complete the next code snippet, such that the function computeJPD computes the joint probability for a random card input and a choice of random variables l,d,b each of them being a boolean variable.\n",
    "\n",
    "*Hint: you probably need more than 1 line of code to do this*\n"
   ]
  },
  {
   "cell_type": "code",
   "execution_count": null,
   "metadata": {},
   "outputs": [],
   "source": [
    "def computeJPD(l,d,b,randomCards):\n",
    "\n",
    "    #add your code here\n",
    "\n",
    "    print(jointProbability)\n",
    "    return(jointProbability)\n",
    "computeJPD(True, False, True, randomCards)  "
   ]
  },
  {
   "cell_type": "markdown",
   "metadata": {},
   "source": [
    "### Task 3\n",
    "\n",
    "In the next step, we want to compute the probability P(B|I) using the computeJPD function from above. Try to write a  snippet of code and save the computation into the variable p_b_l.\n",
    "\n",
    "Also describe what you did into the MyReport1 variable.\n",
    "\n",
    "*Hint: P(B,) / P(l)*"
   ]
  },
  {
   "cell_type": "code",
   "execution_count": null,
   "metadata": {},
   "outputs": [],
   "source": [
    "# add your computation here and write a report below\n",
    "# p_b_l = \n",
    "print(p_b_l)"
   ]
  },
  {
   "cell_type": "code",
   "execution_count": null,
   "metadata": {},
   "outputs": [],
   "source": [
    "MyReport1 =\"\"\"\n",
    "#Put your answer for Task 3 here\n",
    "\"\"\""
   ]
  },
  {
   "cell_type": "markdown",
   "metadata": {},
   "source": [
    "## Final Task: Collect all the results\n",
    "\n",
    "Uncomment and run this cell (and all the cells above) to generate the text file that you have to hand in together with the notebook on canvas!\n",
    "\n",
    "### Please hand in only the text file which is generated by this method!"
   ]
  },
  {
   "cell_type": "code",
   "execution_count": null,
   "metadata": {},
   "outputs": [],
   "source": [
    "import inspect\n",
    "source_cjpd = inspect.getsource(computeJPD)\n",
    "source_bayes_theorem= inspect.getsource(bayes_theorem)\n",
    "\n",
    "from utils import *\n",
    "exportToText(\"assignment8.txt\", source_cjpd,source_bayes_theorem, MyReport1)"
   ]
  }
 ],
 "metadata": {
  "kernelspec": {
   "display_name": "Python 3",
   "language": "python",
   "name": "python3"
  },
  "language_info": {
   "codemirror_mode": {
    "name": "ipython",
    "version": 3
   },
   "file_extension": ".py",
   "mimetype": "text/x-python",
   "name": "python",
   "nbconvert_exporter": "python",
   "pygments_lexer": "ipython3",
   "version": "3.8.8"
  }
 },
 "nbformat": 4,
 "nbformat_minor": 4
}
