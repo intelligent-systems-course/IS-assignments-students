{
 "cells": [
  {
   "cell_type": "markdown",
   "metadata": {},
   "source": [
    "# Intelligent Systems 2023: Practical Assignment 06 \n",
    "## Logical Agents\n",
    "\n",
    "Your name: \n",
    "\n",
    "Your VUnetID: \n",
    "\n",
    "If you do not provide your name and VUnetID we will not accept your submission. \n",
    "\n",
    "### Learning objectives\n",
    "At the end of this exercise you should be able to work with logical agents on the Schnapsen platform\n",
    "\n",
    "1. Be able to apply a SAT solver to check for satisfiability and entailment (bots)\n",
    "\n",
    "\n",
    "### Preliminaries\n",
    "\n",
    "In this worksheet we'll get to know Propositional Logic and RDF.\n",
    "We start building a knowledge graph based agent for playing Schnapsen. The idea is to represent the game and the game states fully in RDF and use queries and logical entailments for getting information.\n",
    "We are not implementing any game play strategy yet.\n",
    "\n",
    "First things first, let's deal with dependencies for using the kb bot, namely numpy and scipy. They should be installed fairly easily via \"pip install numpy\", \"pip install scipy\".\n",
    "Furthermore you need the packages rdflib and owlrl to work with knowledge graphs. These packages can also be installed by using \"pip install rdflib\" and \"pip install owlrl\".\n",
    "rdflib is a in memory database for RDF.\n",
    "owlrl is a reasoning library for RDF-S and OWL which uses rdflib.\n",
    "\n",
    "\n",
    "### Practicalities\n",
    "\n",
    "Follow this Notebook step-by-step. \n",
    "\n",
    "Of course, you can do the exercises in any Programming Editor of your liking. But you do not have to. Feel free to simply write code in the Notebook. Please use your studentID+Assignment6.ipynb as the name of the Notebook.  \n",
    "\n",
    "Note: unlike the courses dedicated to programming we will not evaluate the style of the programs. But we will, however, test your programs on other data that we provide, and your program should give the correct output to the test-data as well.\n",
    "\n",
    "As was mentioned, the assignment is graded as pass/fail. To pass you need to have either a full working code or an explanation of what you tried and what didn't work for the tasks that you were unable to complete (you can use multi-line comments or a text cell).\n",
    "\n",
    "## Initialising \n",
    "\n",
    "First, let us make sure the necessary packages are installed, and imported. Run the following code:"
   ]
  },
  {
   "cell_type": "code",
   "execution_count": null,
   "metadata": {},
   "outputs": [],
   "source": [
    "# If you are on a UNIX system (Linux or Mac OS)\n",
    "!pip uninstall schnapsen -y && rm -rf schnapsen && git clone https://github.com/intelligent-systems-course/schnapsen && cd schnapsen && pip install -e . && cd .."
   ]
  },
  {
   "cell_type": "code",
   "execution_count": null,
   "metadata": {},
   "outputs": [],
   "source": [
    "# If you are on Windows\n",
    "!pip uninstall schnapsen -y && rd /s /q schnapsen && git clone https://github.com/intelligent-systems-course/schnapsen && cd schnapsen && pip install -e . && cd .."
   ]
  },
  {
   "cell_type": "markdown",
   "metadata": {},
   "source": [
    "When you install a python package, e.g., `schnapsen`, directly from a Jupyter Notebook, with a command, e.g., `!rm -rf schnapsen && git clone https://github.com/intelligent-systems-course/schnapsen && cd schnapsen && pip install -e . && cd ..`, your Python kernel might not know that the package is installed yet. This can throw a `ModuleNotFoundError`, `ModuleNotFoundError: No module named 'schnapsen.game'`.\n",
    "\n",
    "If you encounter this, simply restart the kernel and proceed."
   ]
  },
  {
   "cell_type": "code",
   "execution_count": null,
   "metadata": {},
   "outputs": [],
   "source": [
    "from typing import Optional\n",
    "from schnapsen.game import Bot, Move, PlayerPerspective"
   ]
  },
  {
   "cell_type": "markdown",
   "metadata": {},
   "source": [
    "## SAT solving and Entailment checking \n",
    "\n",
    "We will start with some exercises to use an existing SAT solver to check for satisfiability and entailment. "
   ]
  },
  {
   "cell_type": "code",
   "execution_count": null,
   "metadata": {},
   "outputs": [],
   "source": [
    "import kb\n",
    "\n",
    "# Define our symbols\n",
    "A = kb.Boolean('A')\n",
    "B = kb.Boolean('B')\n",
    "C = kb.Boolean('C')\n",
    "\n",
    "# Create a new knowledge base\n",
    "kb = kb.KB()\n",
    "\n",
    "# Add clauses\n",
    "kb.add_clause(A, B, C)\n",
    "kb.add_clause(~A, B)\n",
    "kb.add_clause(~B, C)\n",
    "kb.add_clause(B, ~C)"
   ]
  },
  {
   "cell_type": "markdown",
   "metadata": {},
   "source": [
    "This file first defines the three boolean symbols we will use (A, B and C), creates an empty knowledge base, and then adds the four following clauses:\n",
    "> A or B or C <br>\n",
    "> (not A) or B <br>\n",
    "> (not B) or C<br>\n",
    "> B or not C\n",
    "\n",
    "### Task 1\n",
    "Are there any models (assignments of values to these variables that make all clauses true)? Write down all the models of the knolwedge base in the following cell. "
   ]
  },
  {
   "cell_type": "raw",
   "metadata": {},
   "source": [
    "#Put your answers here"
   ]
  },
  {
   "cell_type": "markdown",
   "metadata": {},
   "source": [
    "Now run the script and report the output in the cell after the code. Explain what it means.  "
   ]
  },
  {
   "cell_type": "code",
   "execution_count": null,
   "metadata": {},
   "outputs": [],
   "source": [
    "# Print all models of the knowledge base\n",
    "for model in kb.models():\n",
    "    print(model)\n",
    "\n",
    "# Print out whether the KB is satisfiable (if there are no models, it is not satisfiable)\n",
    "print(kb.satisfiable())\n"
   ]
  },
  {
   "cell_type": "code",
   "execution_count": null,
   "metadata": {},
   "outputs": [],
   "source": [
    "#Put your answers here\n",
    "Report1=\"\"\"\n",
    "\"\"\""
   ]
  },
  {
   "cell_type": "markdown",
   "metadata": {},
   "source": [
    "Now it is time to adapt your first knowledge-base, by adding stuff…. \n",
    "\n",
    "## Tasks 2: \n",
    "Add a clause to the knowledge base to that it becomes unsatisfiable. Report the line of code you added, and in a separate line, the result that you get from the SAT solver and your script. "
   ]
  },
  {
   "cell_type": "raw",
   "metadata": {},
   "source": [
    "#Put your answers here"
   ]
  },
  {
   "cell_type": "markdown",
   "metadata": {},
   "source": [
    "Now you can already to build your own knowledge base, and do reasoning/inferencing with it. For example, check satisfiability of one of the questions of the working group automatically. \n"
   ]
  },
  {
   "cell_type": "markdown",
   "metadata": {},
   "source": [
    "### Task 3:\n",
    "Let  KB be the  knowledge base introduced in Exercise 7 of the Worksheet on Logical Agents: KB=\n",
    "> (P v Q) ^ (Q -> R) ^ (R -> -P)<br>\n",
    "> -(P <-> - Q)\n",
    "\n",
    "Write a new version of the script above to prove or disprove whether KB is satisfiable or not. You can put both the knowledge base construction (you will have to translate the axioms into CNF by hand before adding them to the KB), the printing of the model and the satisfiability check in the next cell. \n"
   ]
  },
  {
   "cell_type": "markdown",
   "metadata": {},
   "source": [
    "PVQ, -QVR, -RV-P, -QVP, Qv-Q, -PVP, -PV-Q"
   ]
  },
  {
   "cell_type": "code",
   "execution_count": null,
   "metadata": {},
   "outputs": [],
   "source": [
    "#Put your answers here"
   ]
  },
  {
   "cell_type": "markdown",
   "metadata": {},
   "source": [
    "### Task 4: \n",
    "We will now work with the following knowledge base KB:\n",
    "\n",
    ">-A -> B <br> \n",
    "> B -> A <br>\n",
    "> A -> (C ^ D)\n",
    "\n",
    "Convert it to clause normal form, and write a script that creates this knowledge base as you did before. There are different subtasks: \n",
    "1) Print out its models and report them. <br>\n",
    "2) The knowledge base entails A ^ C ^ D. Explain in your own words what this says about the possible models for the knowledge base?\n",
    "\n"
   ]
  },
  {
   "cell_type": "markdown",
   "metadata": {},
   "source": [
    "AVB,-BVA,-AVC,-AVD, A,C,D"
   ]
  },
  {
   "cell_type": "code",
   "execution_count": null,
   "metadata": {},
   "outputs": [],
   "source": [
    "#Put your code here"
   ]
  },
  {
   "cell_type": "code",
   "execution_count": null,
   "metadata": {},
   "outputs": [],
   "source": [
    "Report2 = \"\"\"\n",
    "Write down your explanation for Task 4.2 here.\n",
    "\"\"\""
   ]
  },
  {
   "cell_type": "markdown",
   "metadata": {},
   "source": [
    "In the previous question, you have shown that A ^ C ^ D is entailed by KB semantically (following the definition of entailment), where you used the prover to give you all the models. Now let us see whether you can actually prove entailment using the SAT solver directly.\n",
    "\n",
    "### Task 5: \n",
    "Show entailment of A ^ C ^ D by a proof by refutation. Write the script like above with the knowledge base your create in the following executable cell, including the control statements. \n"
   ]
  },
  {
   "cell_type": "code",
   "execution_count": null,
   "metadata": {},
   "outputs": [],
   "source": [
    "#Put your answers here"
   ]
  },
  {
   "cell_type": "markdown",
   "metadata": {},
   "source": [
    "Explain in your own words what you have done, and what you can conclude from the output of your script for Task 5."
   ]
  },
  {
   "cell_type": "code",
   "execution_count": null,
   "metadata": {},
   "outputs": [],
   "source": [
    "#Put your answers here\n",
    "Report3=\"\"\"\n",
    "Explanation for Task 5\n",
    "\"\"\""
   ]
  },
  {
   "cell_type": "markdown",
   "metadata": {},
   "source": [
    "## Final Task: Collect all the results\n",
    "\n",
    "Uncomment and run this cell (and all the cells above) to generate the text file that you have to hand in together with the notebook on canvas!\n",
    "\n",
    "### Please hand in only the text file which is generated by this method!"
   ]
  },
  {
   "cell_type": "code",
   "execution_count": null,
   "metadata": {},
   "outputs": [],
   "source": [
    "def exportToText(*args):\n",
    "    with open(args[0], \"w\") as f:\n",
    "        for argument in args:\n",
    "            f.write(\"{}\\n\".format(argument))\n",
    "\n",
    "\n",
    "exportToText(\"assignment6.txt\", Report1, Report2, Report3)"
   ]
  }
 ],
 "metadata": {
  "kernelspec": {
   "display_name": "Python 3",
   "language": "python",
   "name": "python3"
  },
  "language_info": {
   "codemirror_mode": {
    "name": "ipython",
    "version": 3
   },
   "file_extension": ".py",
   "mimetype": "text/x-python",
   "name": "python",
   "nbconvert_exporter": "python",
   "pygments_lexer": "ipython3",
   "version": "3.10.12"
  }
 },
 "nbformat": 4,
 "nbformat_minor": 4
}
