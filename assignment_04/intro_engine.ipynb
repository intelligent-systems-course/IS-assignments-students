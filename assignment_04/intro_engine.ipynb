{
 "cells": [
  {
   "cell_type": "markdown",
   "metadata": {},
   "source": [
    "# Intelligent Systems 2023, Practical Assignment 04\n",
    "\n",
    "## The Schnapsen Engine\n",
    "\n",
    "Your name:\n",
    "\n",
    "Your VUnetID:\n",
    "\n",
    "If you do not provide your name and VUnetID we will not accept your submission.\n",
    "\n",
    "### Learning objectives\n",
    "\n",
    "At the end of this exercise you should be able to use the Schnapsen platform, run basic games between agents, and run tournaments in order to evaluate rational agents (also called bots).\n",
    "\n",
    "1. Understand the main functionality of the Schnapsen platform (playing games and running tournements)\n",
    "2. Implement your own rational agents (bots)\n",
    "\n",
    "### Practicalities\n",
    "\n",
    "Follow this Notebook step-by-step.\n",
    "\n",
    "Of course, you can do the exercises in any Programming Editor of your liking. But you do not have to. Feel free to simply write code in the Notebook. Please use your studentID+Assignment4.ipynb as the name of the Notebook.\n",
    "\n",
    "Note: unlike the courses dedicated to programming we will not evaluate the style of the programs. But we will, however, test your programs on other data that we provide, and your program should give the correct output to the test-data as well.\n",
    "\n",
    "As was mentioned, the assignment is graded as pass/fail. To pass you need to have either a full working code or an explanation of what you tried and what didn't work for the tasks that you were unable to complete (you can use multi-line comments or a text cell).\n",
    "\n",
    "## Initialising\n",
    "\n",
    "First, we have to install the schnapsen python package. \n",
    "Run the below code cell.\n",
    "After running the cell, you have the schnapsen Github repository cloned in your current directory.\n",
    "You can find the new directory created with the name `schnapsen`.\n",
    "The detailed installation instructions can be found in the [README.md](https://github.com/intelligent-systems-course/schnapsen) of the repo."
   ]
  },
  {
   "cell_type": "code",
   "execution_count": null,
   "metadata": {},
   "outputs": [],
   "source": [
    "# If you are on a UNIX system (Linux or Mac OS)\n",
    "!pip uninstall schnapsen -y && rm -rf schnapsen && git clone https://github.com/intelligent-systems-course/schnapsen && cd schnapsen && pip install -e . && cd .."
   ]
  },
  {
   "cell_type": "code",
   "execution_count": null,
   "metadata": {},
   "outputs": [],
   "source": [
    "# If you are on Windows\n",
    "!pip uninstall schnapsen -y rd /s /q schnapsen && git clone https://github.com/intelligent-systems-course/schnapsen && cd schnapsen && pip install -e . && cd .."
   ]
  },
  {
   "cell_type": "markdown",
   "metadata": {},
   "source": [
    "When you install a python package, e.g., `schnapsen`, directly from a Jupyter Notebook, with a command, e.g., `!rm -rf schnapsen && git clone https://github.com/intelligent-systems-course/schnapsen && cd schnapsen && pip install -e . && cd ..`, your Python kernel might not know that the package is installed yet. This can throw a `ModuleNotFoundError`, `ModuleNotFoundError: No module named 'schnapsen.game'`.\n",
    "\n",
    "If you encounter this, simply restart the kernel and proceed."
   ]
  },
  {
   "cell_type": "markdown",
   "metadata": {},
   "source": [
    "Now that the schnapsen package is installed, we can import the package, along with the other necessary packages."
   ]
  },
  {
   "cell_type": "code",
   "execution_count": null,
   "metadata": {},
   "outputs": [],
   "source": [
    "import random\n",
    "\n",
    "from schnapsen.bots import RandBot, RdeepBot\n",
    "from bully_bot import BullyBot  # This bot is in this assignment directory.\n",
    "from schnapsen.game import SchnapsenGamePlayEngine"
   ]
  },
  {
   "cell_type": "markdown",
   "metadata": {},
   "source": [
    "## Playing the first games\n",
    "\n",
    "The basic engine comes with three basic bots: rand, bully and rdeep (the rest you can ignore for now).\n"
   ]
  },
  {
   "cell_type": "code",
   "execution_count": null,
   "metadata": {},
   "outputs": [],
   "source": [
    "engine = SchnapsenGamePlayEngine()\n",
    "# choose the players\n",
    "bot1 = RandBot(rand=random.Random(42), name=\"randbot\")\n",
    "bot2 = BullyBot(rand=random.Random(43), name=\"bullybot\")\n",
    "winner_id, game_points, score = engine.play_game(bot1, bot2, random.Random(44))\n",
    "print(f\"Game ended. Winner is {winner_id} with {game_points} points and {score}\")"
   ]
  },
  {
   "cell_type": "markdown",
   "metadata": {},
   "source": [
    "There is a lot of randomness involved in the game when the cards are distributed to the players and the pile. To get an accurate sense of whether one player is better than another, you'll need to play a number of different games. The following code will play a tournament between bully and rand where every pair of participants plays 10 matches.\n",
    "\n",
    "We can fix the randomness by specifying a pseudorandom number generator, e.g., `rand=random.Random(42)`. The seed number 42 here, for example, is used to initialize the pseudorandom number generator."
   ]
  },
  {
   "cell_type": "code",
   "execution_count": null,
   "metadata": {},
   "outputs": [],
   "source": [
    "myrepeats = 10\n",
    "\n",
    "# Create bots.\n",
    "bot1 = RandBot(rand=random.Random(42), name=\"randbot\")\n",
    "bot2 = BullyBot(rand=random.Random(43), name=\"bullybot\")\n",
    "\n",
    "bots = [bot1, bot2]\n",
    "n = len(bots)\n",
    "wins = {str(bot): 0 for bot in bots}\n",
    "matches = [(p1, p2) for p1 in range(n) for p2 in range(n) if p1 < p2]\n",
    "\n",
    "totalgames = (n * n - n) / 2 * myrepeats\n",
    "playedgames = 0\n",
    "\n",
    "print(\"Playing {} games:\".format(int(totalgames)))\n",
    "for a, b in matches:\n",
    "    for r in range(myrepeats):\n",
    "        if random.choice([True, False]):\n",
    "            p = [a, b]\n",
    "        else:\n",
    "            p = [b, a]\n",
    "\n",
    "        winner_id, game_points, score = engine.play_game(\n",
    "            bots[p[0]], bots[p[1]], random.Random(45)\n",
    "        )\n",
    "\n",
    "        wins[str(winner_id)] += game_points\n",
    "\n",
    "        playedgames += 1\n",
    "        print(\n",
    "            \"Played {} out of {:.0f} games ({:.0f}%): {} \\r\".format(\n",
    "                playedgames, totalgames, playedgames / float(totalgames) * 100, wins\n",
    "            )\n",
    "        )"
   ]
  },
  {
   "cell_type": "markdown",
   "metadata": {},
   "source": [
    "### Task 1:\n",
    "\n",
    "The previous code runs a tournament between rand and bully, but you can adapt the script by testing the performance of these bots with the third default bot, rdeep, as the opponent. The general idea of rdeep was extensively discussed under the header PIMS (Perfect Information Monte Carlo Sampling). Report in the following Cell on the results you get from two-player tournaments including rdeep, rand and bully (rdeep vs. rand; rdeep vs. bully). Describe which games you played, and who won.\n",
    "\n",
    "_Hint: You only have to add one single line of code._\n"
   ]
  },
  {
   "cell_type": "code",
   "execution_count": null,
   "metadata": {},
   "outputs": [],
   "source": [
    "Report1 = \"\"\"\n",
    "Insert your answer here.\n",
    "\"\"\""
   ]
  },
  {
   "cell_type": "markdown",
   "metadata": {},
   "source": [
    "### Task 2:\n",
    "\n",
    "The previous code runs a tournament between two bots only, but you can easily adapt the script above to play round-robin tournament. All you have to do is to add a third player to the bots list. Report in the following Cell on the results you get from three-player tournament including rdeep, rand and bully. Add the (non-verbose) output of the script. Report on the results of the tournament and try to explain in your own words what do the results mean.\n",
    "\n",
    "_Hint: You only have to adapt one additional line of code._\n"
   ]
  },
  {
   "cell_type": "code",
   "execution_count": null,
   "metadata": {},
   "outputs": [],
   "source": [
    "Report2 = \"\"\"\n",
    "Insert your answer here.\n",
    "\"\"\""
   ]
  },
  {
   "cell_type": "markdown",
   "metadata": {},
   "source": [
    "## Inspecting the code\n"
   ]
  },
  {
   "cell_type": "markdown",
   "metadata": {},
   "source": [
    "Now let's have a look at how the bots work, by inspecting the schnapsen repository that you have cloned.\n",
    "\n",
    "Let's open [`./schnapsen/src/schnapsen/bots/rand.py`](./schnapsen/src/schnapsen/bots/rand.py)\n",
    "\n",
    "We will use more advanced features of Python than what you have seen so far in Introduction to Python (don’t worry), [so for more details have a look here](https://www.learnpython.org/en/Classes_and_Objects).\n",
    "\n",
    "The rand bot contains nothing but a constructor `__init__()` and one method `get_move()`.\n",
    "\n",
    "These are the only things you have to implement to get a working bot. \n",
    "\n",
    "The constructor `__init__()` requires two arguments: `rand` and `name`.\n",
    "`rand`is to fix the randomness, as explained above, and `name` is the name you want to give to your bot.\n",
    "\n",
    "The method `get_move()` takes two arguments `state` and `leader_move`.\n",
    "`state` is an instance of `PlayerPerspective`, which is the current \"state\" of the Bot.\n",
    "`leader_move` is an instance of `Move`, which is the move that the opponent has made.\n",
    "This is an optinal argument for `RandBot`, since it does not account for the move that the opponent has made.\n",
    "This method chooses a valid move uniformly at random from the list of moves, and return that move.\n",
    "A move can be something like `RegularMove(card=Card.ACE_HEARTS)`.\n",
    "\n",
    "Take a look at `class Move` in [`./schnapsen/src/schnapsen/game.py`](./schnapsen/src/schnapsen/game.py)"
   ]
  },
  {
   "cell_type": "markdown",
   "metadata": {},
   "source": [
    "### [`bully_bot.py`](bully_bot.py)\n",
    "\n",
    "This file can be found locally."
   ]
  },
  {
   "cell_type": "markdown",
   "metadata": {},
   "source": [
    "Bully is a deterministic bot: given the same state it will always do the same thing. We've removed part of the explanation from the comments.\n",
    "\n",
    "### Task 3:\n",
    "\n",
    "Have a look at the code: describe in your own words what strategy does the bully bot use?"
   ]
  },
  {
   "cell_type": "code",
   "execution_count": null,
   "metadata": {},
   "outputs": [],
   "source": [
    "Report3 = \"\"\"\n",
    "Insert your answer here.\n",
    "\"\"\""
   ]
  },
  {
   "cell_type": "markdown",
   "metadata": {},
   "source": [
    "### [`./schnapsen/src/schnapsen/bots/rdeep.py`](./schnapsen/src/schnapsen/bots/rdeep.py)\n",
    "\n",
    "The lectures discuss the hill-climbing strategy: look one move ahead and pick the move that leads to the best heuristic. The heuristics we use is the ratio of the player points w.r.t. to the total points currently assigned in the game. The higher this value, the better the state is for us. Imagine doing hill-climbing with this heuristic. This strategy would not work here. Why not?\n",
    "\n",
    "In order to avoid this issue, we need to look further ahead than the hill climbing strategy does. rdeep.py does this in the simplest way we could think of. Make eight random moves and look at the value of the resulting state. Do this a few times and average the values found. This method is called Perfect-Information Monte-Carlo Sampling (PIMC).\n",
    "\n",
    "You just ran a tournament between rdeep and the other two bots. Most likely, rdeep will have won a few more games. But does the difference really mean rdeep is better? It might just be that rdeep is no better than rand and won by pure luck."
   ]
  },
  {
   "cell_type": "markdown",
   "metadata": {},
   "source": [
    "\n",
    "### Task 4\n",
    "\n",
    "If you wanted to provide scientific evidence that rdeep is better than rand, how would you go about it?"
   ]
  },
  {
   "cell_type": "code",
   "execution_count": null,
   "metadata": {},
   "outputs": [],
   "source": [
    "Report4 = \"\"\"\n",
    "Insert your answer here.\n",
    "\"\"\""
   ]
  },
  {
   "cell_type": "markdown",
   "metadata": {},
   "source": [
    "### `mybot.py`\n",
    "\n",
    "It's time to write your own bot. Think of a simple strategy that is easy to implement. To create the bot follow these steps:\n",
    "\n",
    "1. Go to the directory `./schnapsen/src/schnapsen/bots/`\n",
    "2. Make your bot file, e.g., `mybot.py`\n",
    "3. `mybot.py` should include importing packages, class name, and its methods. If you forgot how to do them. Take a look at [`./schnapsen/src/schnapsen/bots/rand.py`](./schnapsen/src/schnapsen/bots/rand.py) again. Remember that your job is to write the constructor `__init__()` and method `get_move()`. Be creative.\n",
    "4. Open [`./schnapsen/src/schnapsen/bots/__init__.py`](./schnapsen/src/schnapsen/bots/__init__.py). You have to add your bot so that the schnapsen package knows that you have made your own bot. The code is self-explanatory\n",
    "\n",
    "\n",
    "If your bot has parameters (like a search depth, or a pre-programmed probability of doing nothing) you can add these to the constructor.\n",
    "\n",
    "It's always a good practice to read README and docstrings of the schnapsen package that you have cloned to understand how it works. \n",
    "\n",
    "### Task 5\n",
    "\n",
    "Add your implementation of `get_move()` and the result of a tournament against randbot to your report.\n",
    "\n",
    "Please write your code here (in raw text, to avoid an error), as well as the results in the following cell:\n"
   ]
  },
  {
   "cell_type": "markdown",
   "metadata": {},
   "source": [
    "You had to follow the steps above to have `mybot.py`. Then you would want to tweek the code of rand or do something entirely new. It didn't have to be the case that it wins more than any of the bots, just that it was a new implementation."
   ]
  },
  {
   "cell_type": "code",
   "execution_count": null,
   "metadata": {},
   "outputs": [],
   "source": [
    "MyMove1 =\"\"\"\n",
    "Please also write your code, as well as the results here. \n",
    "\"\"\""
   ]
  },
  {
   "cell_type": "markdown",
   "metadata": {},
   "source": [
    "## Final Task: Collect all the results\n",
    "\n",
    "Uncomment and run this cell (and all the cells above) to generate the text file that you have to hand in together with the notebook on canvas!\n",
    "\n",
    "### Please hand in only the text file which is generated by this method!\n"
   ]
  },
  {
   "cell_type": "code",
   "execution_count": null,
   "metadata": {},
   "outputs": [],
   "source": [
    "def exportToText(*args):\n",
    "    with open(args[0], \"w\") as f:\n",
    "        for argument in args:\n",
    "            f.write(\"{}\\n\".format(argument))\n",
    "\n",
    "\n",
    "exportToText(\"assignment4.txt\", Report1, Report2, Report3, Report4, MyMove1)"
   ]
  }
 ],
 "metadata": {
  "kernelspec": {
   "display_name": "Python 3",
   "language": "python",
   "name": "python3"
  },
  "language_info": {
   "codemirror_mode": {
    "name": "ipython",
    "version": 3
   },
   "file_extension": ".py",
   "mimetype": "text/x-python",
   "name": "python",
   "nbconvert_exporter": "python",
   "pygments_lexer": "ipython3",
   "version": "3.10.12"
  }
 },
 "nbformat": 4,
 "nbformat_minor": 4
}
